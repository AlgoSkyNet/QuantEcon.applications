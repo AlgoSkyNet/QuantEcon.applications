{
 "cells": [
  {
   "cell_type": "markdown",
   "metadata": {},
   "source": [
    "# quant-econ Solutions: Modeling Career Choice\n",
    "\n",
    "Solutions for http://quant-econ.net/jl/career.html"
   ]
  },
  {
   "cell_type": "code",
   "execution_count": 8,
   "metadata": {
    "collapsed": false
   },
   "outputs": [
    {
     "data": {
      "text/plain": [
       "get_greedy (generic function with 1 method)"
      ]
     },
     "execution_count": 8,
     "metadata": {},
     "output_type": "execute_result"
    }
   ],
   "source": [
    "using Plots\n",
    "using QuantEcon\n",
    "include(\"career.jl\")"
   ]
  },
  {
   "cell_type": "code",
   "execution_count": 9,
   "metadata": {
    "collapsed": false
   },
   "outputs": [
    {
     "data": {
      "text/html": [
       "<html>\n",
       "<head>\n",
       "     <script src=\"/Users/victoriagregory/.julia/v0.4/PlotlyJS/deps/plotly-latest.min.js\"></script>\n",
       "</head>\n",
       "<body>\n",
       "     <div id=\"91597314-7264-463d-9230-7e1dd419a9f0\" class=\"plotly-graph-div\"></div>\n",
       "\n",
       "<script>\n",
       "    window.PLOTLYENV=window.PLOTLYENV || {};\n",
       "    window.PLOTLYENV.BASE_URL=\"https://plot.ly\";\n",
       "   Plotly.newPlot('91597314-7264-463d-9230-7e1dd419a9f0', [{\"yaxis\":\"y\",\"y\":[1.2244897959183674,1.1224489795918366,4.6938775510204085,4.6938775510204085,4.6938775510204085,4.6938775510204085,4.6938775510204085,4.6938775510204085,4.6938775510204085,4.6938775510204085,4.6938775510204085,4.6938775510204085,4.6938775510204085,4.6938775510204085,4.6938775510204085,4.6938775510204085,4.6938775510204085,4.6938775510204085,4.6938775510204085,4.6938775510204085],\"showlegend\":true,\"name\":\"epsilon\",\"type\":\"scatter\",\"xaxis\":\"x\",\"line\":{\"width\":2,\"dash\":\"solid\",\"color\":\"rgba(0, 154, 250, 1.000)\",\"shape\":\"linear\"},\"x\":[1,2,3,4,5,6,7,8,9,10,11,12,13,14,15,16,17,18,19,20],\"mode\":\"lines\"},{\"yaxis\":\"y2\",\"y\":[3.7755102040816326,1.4285714285714286,1.836734693877551,1.4285714285714286,0.6122448979591837,3.673469387755102,0.8163265306122449,2.5510204081632653,0.30612244897959184,2.0408163265306123,3.7755102040816326,2.9591836734693877,2.4489795918367347,0.5102040816326531,1.4285714285714286,4.6938775510204085,4.6938775510204085,4.6938775510204085,4.6938775510204085,4.6938775510204085],\"showlegend\":false,\"name\":\"\",\"type\":\"scatter\",\"xaxis\":\"x2\",\"line\":{\"width\":2,\"dash\":\"solid\",\"color\":\"rgba(0, 154, 250, 1.000)\",\"shape\":\"linear\"},\"x\":[1,2,3,4,5,6,7,8,9,10,11,12,13,14,15,16,17,18,19,20],\"mode\":\"lines\"},{\"yaxis\":\"y\",\"y\":[3.163265306122449,4.6938775510204085,4.6938775510204085,4.6938775510204085,4.6938775510204085,4.6938775510204085,4.6938775510204085,4.6938775510204085,4.6938775510204085,4.6938775510204085,4.6938775510204085,4.6938775510204085,4.6938775510204085,4.6938775510204085,4.6938775510204085,4.6938775510204085,4.6938775510204085,4.6938775510204085,4.6938775510204085,4.6938775510204085],\"showlegend\":true,\"name\":\"theta\",\"type\":\"scatter\",\"xaxis\":\"x\",\"line\":{\"width\":2,\"dash\":\"solid\",\"color\":\"rgba(227, 111, 71, 1.000)\",\"shape\":\"linear\"},\"x\":[1,2,3,4,5,6,7,8,9,10,11,12,13,14,15,16,17,18,19,20],\"mode\":\"lines\"},{\"yaxis\":\"y2\",\"y\":[4.795918367346939,4.795918367346939,4.795918367346939,4.795918367346939,4.795918367346939,4.795918367346939,4.795918367346939,4.795918367346939,4.795918367346939,4.795918367346939,4.795918367346939,4.795918367346939,4.795918367346939,4.795918367346939,4.795918367346939,4.795918367346939,4.795918367346939,4.795918367346939,4.795918367346939,4.795918367346939],\"showlegend\":false,\"name\":\"\",\"type\":\"scatter\",\"xaxis\":\"x2\",\"line\":{\"width\":2,\"dash\":\"solid\",\"color\":\"rgba(227, 111, 71, 1.000)\",\"shape\":\"linear\"},\"x\":[1,2,3,4,5,6,7,8,9,10,11,12,13,14,15,16,17,18,19,20],\"mode\":\"lines\"}],  {\"yaxis\":{\"linecolor\":\"rgba(0, 0, 0, 1.000)\",\"type\":\"-\",\"domain\":[0.5573053368328958,0.9901574803149606],\"titlefont\":{\"size\":15,\"color\":\"rgba(0, 0, 0, 1.000)\",\"family\":\"Helvetica\"},\"tickcolor\":\"rgba(0, 0, 0, 1.000)\",\"title\":\"\",\"showgrid\":true,\"zeroline\":false,\"anchor\":\"x\",\"tickfont\":{\"size\":11,\"color\":\"rgba(0, 0, 0, 1.000)\",\"family\":\"Helvetica\"}},\"annotations\":[],\"width\":600,\"showlegend\":true,\"legend\":{\"bgcolor\":\"rgba(255, 255, 255, 1.000)\",\"font\":{\"size\":11,\"color\":\"rgba(0, 0, 0, 1.000)\",\"family\":\"Helvetica\"},\"bordercolor\":\"rgba(0, 0, 0, 1.000)\"},\"xaxis\":{\"linecolor\":\"rgba(0, 0, 0, 1.000)\",\"type\":\"-\",\"domain\":[0.05905511811023622,0.9934383202099738],\"titlefont\":{\"size\":15,\"color\":\"rgba(0, 0, 0, 1.000)\",\"family\":\"Helvetica\"},\"tickcolor\":\"rgba(0, 0, 0, 1.000)\",\"title\":\"\",\"showgrid\":true,\"zeroline\":false,\"anchor\":\"y\",\"tickfont\":{\"size\":11,\"color\":\"rgba(0, 0, 0, 1.000)\",\"family\":\"Helvetica\"}},\"yaxis2\":{\"linecolor\":\"rgba(0, 0, 0, 1.000)\",\"type\":\"-\",\"domain\":[0.057305336832895896,0.49015748031496065],\"titlefont\":{\"size\":15,\"color\":\"rgba(0, 0, 0, 1.000)\",\"family\":\"Helvetica\"},\"tickcolor\":\"rgba(0, 0, 0, 1.000)\",\"title\":\"\",\"showgrid\":true,\"zeroline\":false,\"anchor\":\"x2\",\"tickfont\":{\"size\":11,\"color\":\"rgba(0, 0, 0, 1.000)\",\"family\":\"Helvetica\"}},\"xaxis2\":{\"linecolor\":\"rgba(0, 0, 0, 1.000)\",\"type\":\"-\",\"domain\":[0.05905511811023622,0.9934383202099738],\"titlefont\":{\"size\":15,\"color\":\"rgba(0, 0, 0, 1.000)\",\"family\":\"Helvetica\"},\"tickcolor\":\"rgba(0, 0, 0, 1.000)\",\"title\":\"\",\"showgrid\":true,\"zeroline\":false,\"anchor\":\"y2\",\"tickfont\":{\"size\":11,\"color\":\"rgba(0, 0, 0, 1.000)\",\"family\":\"Helvetica\"}},\"margin\":{\"r\":0,\"l\":0,\"b\":0,\"t\":20},\"height\":400,\"plot_bgcolor\":\"rgba(255, 255, 255, 1.000)\",\"paper_bgcolor\":\"rgba(255, 255, 255, 1.000)\"}, {showLink: false});\n",
       "\n",
       " </script>\n",
       "\n",
       "</body>\n",
       "</html>\n"
      ]
     },
     "execution_count": 9,
     "metadata": {},
     "output_type": "execute_result"
    }
   ],
   "source": [
    "srand(41)  # reproducible results\n",
    "wp = CareerWorkerProblem()\n",
    "\n",
    "function solve_wp(wp::CareerWorkerProblem)\n",
    "    v_init = fill(100.0, wp.N, wp.N)\n",
    "    func(x) = bellman_operator(wp, x)\n",
    "    v = compute_fixed_point(func, v_init, max_iter=500, verbose=false)\n",
    "    optimal_policy = get_greedy(wp, v)\n",
    "    return v, optimal_policy\n",
    "end\n",
    "\n",
    "v, optimal_policy = solve_wp(wp)\n",
    "\n",
    "F = DiscreteRV(wp.F_probs)\n",
    "G = DiscreteRV(wp.G_probs)\n",
    "\n",
    "function gen_path(T=20)\n",
    "    i = j = 1\n",
    "    theta_ind = Int[]\n",
    "    epsilon_ind = Int[]\n",
    "    \n",
    "    for t=1:T\n",
    "        # do nothing if stay put\n",
    "        if optimal_policy[i, j] == 2  # new job\n",
    "            j = QuantEcon.draw(G)[1]\n",
    "        elseif optimal_policy[i, j] == 3  # new life\n",
    "            i, j = QuantEcon.draw(F)[1], QuantEcon.draw(G)[1]\n",
    "        end\n",
    "        push!(theta_ind, i)\n",
    "        push!(epsilon_ind, j)\n",
    "    end\n",
    "    return wp.theta[theta_ind], wp.epsilon[epsilon_ind]\n",
    "end\n",
    "\n",
    "plotlyjs()\n",
    "n = 2\n",
    "thetas = []\n",
    "epsilons = []\n",
    "for i=1:n\n",
    "    theta_path, epsilon_path = gen_path()\n",
    "    push!(thetas, theta_path)\n",
    "    push!(epsilons, epsilon_path)\n",
    "end\n",
    "\n",
    "plot(epsilons, label=[\"epsilon\" \"\"], layout=grid(2,1), linewidth=2)\n",
    "plot!(thetas, label=[\"theta\" \"\"], linewidth=2)"
   ]
  },
  {
   "cell_type": "markdown",
   "metadata": {},
   "source": [
    "## Exercise 2\n",
    "\n",
    "The median for the original parameterization can be computed as follows"
   ]
  },
  {
   "cell_type": "code",
   "execution_count": 10,
   "metadata": {
    "collapsed": false
   },
   "outputs": [
    {
     "name": "stdout",
     "output_type": "stream",
     "text": [
      "7.0"
     ]
    }
   ],
   "source": [
    "function gen_first_passage_time(optimal_policy::Matrix)\n",
    "    t = 0\n",
    "    i = j = 1\n",
    "    while true\n",
    "        if optimal_policy[i, j] == 1    # Stay put\n",
    "            return t\n",
    "        elseif optimal_policy[i, j] == 2  # New job\n",
    "            j = QuantEcon.draw(G)[1]\n",
    "        else                            # New life\n",
    "            i, j = QuantEcon.draw(F)[1], QuantEcon.draw(G)[1]\n",
    "        end\n",
    "        t += 1\n",
    "    end\n",
    "end\n",
    "\n",
    "\n",
    "M = 25000\n",
    "samples = Array(Float64, M)\n",
    "for i=1:M\n",
    "    samples[i] = gen_first_passage_time(optimal_policy)\n",
    "end\n",
    "print(median(samples))"
   ]
  },
  {
   "cell_type": "markdown",
   "metadata": {},
   "source": [
    "To compute the median with $\\beta=0.99$ instead of the default value $\\beta=0.95$,\n",
    "replace `wp = CareerWorkerProblem()` with `wp = CareerWorkerProblem(beta=0.99)`\n",
    "\n",
    "The medians are subject to randomness, but should be about 7 and 11\n",
    "respectively.  Not surprisingly, more patient workers will wait longer to settle down to their final job"
   ]
  },
  {
   "cell_type": "markdown",
   "metadata": {},
   "source": [
    "## Exercise 3\n",
    "\n",
    "Here’s the code to reproduce the original figure"
   ]
  },
  {
   "cell_type": "code",
   "execution_count": 11,
   "metadata": {
    "collapsed": false
   },
   "outputs": [
    {
     "ename": "LoadError",
     "evalue": "LoadError: syntax: extra token \")\" after end of expression\nwhile loading In[11], in expression starting on line 11",
     "output_type": "error",
     "traceback": [
      "LoadError: syntax: extra token \")\" after end of expression\nwhile loading In[11], in expression starting on line 11",
      ""
     ]
    }
   ],
   "source": [
    "#function region_plot(wp::CareerWorkerProblem)\n",
    "#    v, optimal_policy = solve_wp(wp)\n",
    "#    region_plot(optimal_policy)\n",
    "#end\n",
    "\n",
    "#function region_plot(optimal_policy::Matrix)\n",
    "#    tg, eg = meshgrid(collect(wp.theta), collect(wp.epsilon))\n",
    "#    lvls = [0.5, 1.5, 2.5, 3.5]\n",
    "\n",
    "#    ax[:contourf](tg, eg, optimal_policy', levels=lvls, cmap=ColorMap(\"winter\"), \n",
    "                  alpha=0.5)\n",
    "#    ax[:contour](tg, eg, optimal_policy', colors=\"k\", levels=lvls, linewidths=2)\n",
    "#    ax[:set_xlabel](\"theta\", fontsize=14)\n",
    "#    ax[:set_ylabel](\"epsilon\", fontsize=14)\n",
    "#    ax[:text](1.8, 2.5, \"new life\", fontsize=14)\n",
    "#    ax[:text](4.5, 2.5, \"new job\", fontsize=14, rotation=\"vertical\")\n",
    "#    ax[:text](4.0, 4.5, \"stay put\", fontsize=14)\n",
    "#end\n",
    "\n",
    "#region_plot(optimal_policy);"
   ]
  },
  {
   "cell_type": "markdown",
   "metadata": {},
   "source": [
    "Now we want to set `G_a = G_b = 100` and generate a new figure with these parameters. \n",
    "\n",
    "To do this replace:\n",
    "\n",
    "    wp = CareerWorkerProblem()\n",
    "\n",
    "with:\n",
    "\n",
    "    wp = CareerWorkerProblem(G_a=100, G_b=100)\n",
    "\n",
    "In the new figure, you will see that the region for which the worker will stay put has grown because the distribution for $\\epsilon$ has become more concentrated around the mean, making high-paying jobs less realistic\n"
   ]
  },
  {
   "cell_type": "code",
   "execution_count": 12,
   "metadata": {
    "collapsed": false
   },
   "outputs": [],
   "source": [
    "#PyPlot.close(\"all\")\n",
    "#region_plot(CareerWorkerProblem(G_a=100, G_b=100));"
   ]
  },
  {
   "cell_type": "code",
   "execution_count": 13,
   "metadata": {
    "collapsed": false
   },
   "outputs": [
    {
     "data": {
      "text/plain": [
       "4-element Array{Float64,1}:\n",
       " 0.5\n",
       " 1.5\n",
       " 2.5\n",
       " 3.5"
      ]
     },
     "execution_count": 13,
     "metadata": {},
     "output_type": "execute_result"
    }
   ],
   "source": [
    "tg, eg = meshgrid(collect(wp.theta), collect(wp.epsilon))\n",
    "    lvls = [0.5, 1.5, 2.5, 3.5]"
   ]
  },
  {
   "cell_type": "code",
   "execution_count": 14,
   "metadata": {
    "collapsed": false
   },
   "outputs": [
    {
     "data": {
      "text/html": [
       "<img src=\"data:image/png;base64,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\" />"
      ]
     },
     "execution_count": 14,
     "metadata": {},
     "output_type": "execute_result"
    }
   ],
   "source": [
    "pyplot()\n",
    "contour(collect(wp.theta), collect(wp.epsilon), optimal_policy', fill=true, levels=lvls, alpha=0.5, cbar=false)\n",
    "xlabel!(\"theta\")\n",
    "ylabel!(\"epsilon\")\n",
    "annotate!([(1.8, 2.5,text(\"new life\")), (4.5, 2.5, text(\"new job\")), (4.5, 4.5, text(\"stay put\", :white))])"
   ]
  },
  {
   "cell_type": "code",
   "execution_count": null,
   "metadata": {
    "collapsed": true
   },
   "outputs": [],
   "source": []
  }
 ],
 "metadata": {
  "kernelspec": {
   "display_name": "Julia 0.4.3",
   "language": "julia",
   "name": "julia-0.4"
  },
  "language_info": {
   "file_extension": ".jl",
   "mimetype": "application/julia",
   "name": "julia",
   "version": "0.4.3"
  }
 },
 "nbformat": 4,
 "nbformat_minor": 0
}
